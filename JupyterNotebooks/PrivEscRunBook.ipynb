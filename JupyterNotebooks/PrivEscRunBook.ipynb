{
 "cells": [
  {
   "cell_type": "markdown",
   "id": "e2578a1b",
   "metadata": {},
   "source": [
    "# ***Priv Esc Runbook***"
   ]
  },
  {
   "cell_type": "markdown",
   "id": "02db4c46",
   "metadata": {},
   "source": [
    "## Setup"
   ]
  },
  {
   "cell_type": "code",
   "execution_count": null,
   "id": "ddd426ac",
   "metadata": {},
   "outputs": [],
   "source": [
    "# will need to house these locally if they are not already in there, which I am sure some of them are.\n",
    "# install packages\n",
    "print(\"Installing Necesssary Packages, please wait.\")\n",
    "import sys\n",
    "!{sys.executable} -m pip install kqlmagic --no-cache-dir --upgrade\n",
    "!{sys.executable} -m pip install pandas\n",
    "!{sys.executable} -m pip install datetime\n",
    "!{sys.executable} -m pip install msticpy\n",
    "!{sys.executable} -m pip install msticpy[azure,ml,kql,keyvault]\n",
    "print(\"Package installation complete.\")"
   ]
  },
  {
   "cell_type": "code",
   "execution_count": null,
   "id": "fbfbf981",
   "metadata": {},
   "outputs": [],
   "source": [
    "#import packages\n",
    "print(\"Inporting Necesssary Packages, please wait.\")\n",
    "import Kqlmagic\n",
    "import pandas as pd\n",
    "from datetime import datetime\n",
    "import msticpy\n",
    "from msticpy.nbtools import process_tree as ptree\n",
    "from msticpy.nbtools.timeline import display_timeline\n",
    "print(\"Package import complete.\")\n",
    "%reload_ext Kqlmagic"
   ]
  },
  {
   "cell_type": "markdown",
   "id": "927a4cd0",
   "metadata": {},
   "source": [
    "## Variable Definitions"
   ]
  },
  {
   "cell_type": "code",
   "execution_count": null,
   "id": "63c4de31",
   "metadata": {},
   "outputs": [],
   "source": [
    "#Adding IOCs as Global Variables to be used across functions\n",
    "compromised_accounts = ('User1','User2')\n",
    "compromised_machines = ('Computer1', 'Computer2')\n",
    "start_time = '2022-03-08'\n",
    "end_time = '2022-03-09'\n",
    "privesc_tools = (\"winPEAs\", \"adPEAs\", \"mimikatz\", \"powerup\", \"sherlock\", \"seatbelt\", \"jaws-enum\", \"wes.py\", \"privesccheck\")\n",
    "tool_used = ()\n",
    "attribution = ()"
   ]
  },
  {
   "cell_type": "markdown",
   "id": "453dd4f9",
   "metadata": {},
   "source": [
    "## Adding Cluster Connections"
   ]
  },
  {
   "cell_type": "code",
   "execution_count": null,
   "id": "7073f82a",
   "metadata": {},
   "outputs": [],
   "source": [
    "#add all necessary kusto connections\n",
    "# will we need the full URL of the cluster? \n",
    "# i saw there was some pop-up auth, need ot make sure that will work for us too\n",
    "%kql kusto://code().cluster('yourcluster').database('WEC')"
   ]
  },
  {
   "cell_type": "markdown",
   "id": "3776f1c9",
   "metadata": {},
   "source": [
    "## Queries"
   ]
  },
  {
   "cell_type": "markdown",
   "id": "6a4fb06d",
   "metadata": {},
   "source": [
    "#### Initial WEC Query"
   ]
  },
  {
   "cell_type": "code",
   "execution_count": null,
   "id": "7259a86a",
   "metadata": {},
   "outputs": [],
   "source": [
    "#queries\n",
    "%%kql WEC@yourcluster\n",
    "let usernames_list = compromised_accounts;\n",
    "let start_time_string = start_time;\n",
    "let end_time_string = end_time;\n",
    "let start = todatetime(start_time_string);\n",
    "let end = todatetime(end_time_string);\n",
    "SecurityLog\n",
    "| where ingestion_time() between(start .. end)\n",
    "| where EventId == 4688\n",
    "| where EventData.TargetUserName has_any (usernames_list)\n",
    "| extend SubjectUserName = tostring(parse_json(EventData).SubjectUserName),\n",
    "        TargetUserName = tostring(parse_json(EventData).TargetUserName),\n",
    "        CommandLine = tostring(parse_json(EventData).CommandLine),\n",
    "        ParentProcessName = tostring(parse_json(EventData).ParentProcessName),\n",
    "        NewProcessName = tostring(parse_json(EventData).NewProcessName)\n",
    "| project TimeCreated, Computer, SubjectUserName, TargetUserName, ParentProcessName, NewProcessName, CommandLine\n",
    "| sort by TimeCreated desc\n",
    "| limit 1000\n"
   ]
  },
  {
   "cell_type": "markdown",
   "id": "05b9b9a8",
   "metadata": {},
   "source": [
    "#### WEC Results to DF Variable"
   ]
  },
  {
   "cell_type": "code",
   "execution_count": null,
   "id": "69c90959",
   "metadata": {},
   "outputs": [],
   "source": [
    "InitialWECLogs = _kql_raw_result_.to_dataframe()"
   ]
  },
  {
   "cell_type": "markdown",
   "id": "8235d53d",
   "metadata": {},
   "source": [
    "#### Token Elevation Query"
   ]
  },
  {
   "cell_type": "code",
   "execution_count": null,
   "id": "fbf30d0f",
   "metadata": {},
   "outputs": [],
   "source": [
    "# the %1937 tokenelevation type indicates a user running with admin or equivalent permissions, \n",
    "# similar to executing with runas\n",
    "%%kql WEC@yourcluster\n",
    "let start_time_string = start_time;\n",
    "let end_time_string = end_time;\n",
    "let start = todatetime(start_time_string);\n",
    "let end = todatetime(end_time_string);\n",
    "SecurityLog\n",
    "| where ingestion_time() between(start..end)\n",
    "| where EventId == 4688\n",
    "| where Computer contains \"JMP\"\n",
    "| where EventData.TokenElevation.Type contains \"1937\"\n",
    "| sort by TimeCreated desc\n",
    "| limit 1000"
   ]
  },
  {
   "cell_type": "markdown",
   "id": "98262986",
   "metadata": {},
   "source": [
    "#### Token Elevation Results to DF Variable"
   ]
  },
  {
   "cell_type": "code",
   "execution_count": null,
   "id": "320fbb8b",
   "metadata": {},
   "outputs": [],
   "source": [
    "Token_Elevation = _kql_raw_result_.to_dataframe()"
   ]
  },
  {
   "cell_type": "markdown",
   "id": "30606477",
   "metadata": {},
   "source": [
    "#### RunDLL Query"
   ]
  },
  {
   "cell_type": "code",
   "execution_count": null,
   "id": "1358be5f",
   "metadata": {},
   "outputs": [],
   "source": [
    "# suspicious rundll32, this is a technique of dll hijacking\n",
    "%%kql WEC@yourcluster\n",
    "let start_time_string = start_time;\n",
    "let end_time_string = end_time;\n",
    "let start = todatetime(start_time_string);\n",
    "let end = todatetime(end_time_string);\n",
    "SecurityLog\n",
    "| where ingestion_time() between(start_time..end_time)\n",
    "| where EventId == 4688\n",
    "| where EventData.CommandLine contains \"rundll32\"\n",
    "| where EventData.NewProcessName !contains \"system32\"\n",
    "| sort by TimeCreated desc\n",
    "| limit 1000"
   ]
  },
  {
   "cell_type": "markdown",
   "id": "2c132fd2",
   "metadata": {},
   "source": [
    "#### RunDLL Results to DF Variable"
   ]
  },
  {
   "cell_type": "code",
   "execution_count": null,
   "id": "2695eede",
   "metadata": {},
   "outputs": [],
   "source": [
    "rundll_results = _kql_raw_result_.to_dataframe()"
   ]
  },
  {
   "cell_type": "markdown",
   "id": "9b823ae1",
   "metadata": {},
   "source": [
    "#### Pass the Hash Query"
   ]
  },
  {
   "cell_type": "code",
   "execution_count": null,
   "id": "b5f786ee",
   "metadata": {},
   "outputs": [],
   "source": [
    "# querying for possible pass the hash techniques - still working on this\n",
    "\n",
    "%%kql WEC@yourcluster\n",
    "let start_time_string = start_time;\n",
    "let end_time_string = end_time;\n",
    "let start = todatetime(start_time_string);\n",
    "let end = todatetime(end_time_string);\n",
    "SecurityLog\n",
    "| where TimeCreated between(start..end)\n",
    "| where EventId == 4624 and EventData.LogonType == 9\n",
    "| where isnotempty(EventData.TargetOutBoundUserName) and EventData.TargetOutBoundUserName != \"-\"\n",
    "| project TimeCreated, Computer, EventData.TargetOutBoundUserName, EventData.LogonType, EventData.IpAddress EventData.LogonGuid \n",
    "| join (SecurityLog\n",
    "        | where TimeCreated between(start..end)\n",
    "        | where EventId == 4648\n",
    "        | where EventData.TargetServerName != \"-\" and EventData.TargetServerName != \"localhost\"\n",
    "        | project TimeCreated, EventData.TargetServerName, Computer, EventData.TargetUserName, EventData.TargetInfo,\n",
    "        EventData.LogonGiud\n",
    "        ) on EventData.LogonGuid\n",
    "| sort by TimeCreated desc"
   ]
  },
  {
   "cell_type": "markdown",
   "id": "be6f2556",
   "metadata": {},
   "source": [
    "#### Pass the Hash Results to DF Variable"
   ]
  },
  {
   "cell_type": "code",
   "execution_count": null,
   "id": "1f88459d",
   "metadata": {},
   "outputs": [],
   "source": [
    "pth_results = _kql_raw_result_.to_dataframe()"
   ]
  },
  {
   "cell_type": "markdown",
   "id": "5d907735",
   "metadata": {},
   "source": [
    "#### User Login Summary Query"
   ]
  },
  {
   "cell_type": "code",
   "execution_count": null,
   "id": "e679efc5",
   "metadata": {},
   "outputs": [],
   "source": [
    "#user login summary\n",
    "%%kql WEC@yourcluster\n",
    "let usernames_list = compromised_accounts;\n",
    "let start_time_string = start_time;\n",
    "let end_time_string = end_time;\n",
    "let start = todatetime(start_time_string);\n",
    "let end = todatetime(end_time_string);\n",
    "SecurityLog\n",
    "| where ingestion_time() between(start..end)\n",
    "| where EventId == 4624\n",
    "| where Computer has_any (usernames_list)\n",
    "| extend TargetUserName = tostring(EventData.TargetUserName),\n",
    "    TargetUserSid = EventData.TargetUserSid,\n",
    "    IpAddress = tostring(EventData.IpAddress),\n",
    "    LogonType = tostring(EventData.LogonType)\n",
    "| where TargetUserSid !~ 'S-1-5-18'\n",
    "| summarize Count=count() by TargetUserName, Computer, IpAddress, LogonType\n",
    "| sort by Count desc"
   ]
  },
  {
   "cell_type": "markdown",
   "id": "2ae1ea4e",
   "metadata": {},
   "source": [
    "#### User Login Results to DF Variable"
   ]
  },
  {
   "cell_type": "code",
   "execution_count": null,
   "id": "2ffa5e55",
   "metadata": {},
   "outputs": [],
   "source": [
    "user_login_results = _kql_raw_result_.to_dataframe()"
   ]
  },
  {
   "cell_type": "markdown",
   "id": "5b14de8e",
   "metadata": {},
   "source": [
    "#### Computer Login Summary"
   ]
  },
  {
   "cell_type": "code",
   "execution_count": null,
   "id": "c060a9f9",
   "metadata": {},
   "outputs": [],
   "source": [
    "#users logged into particular machines \n",
    "%%kql WEC@yourcluster\n",
    "let machine_list = compromised_machines;\n",
    "let start_time_string = start_time;\n",
    "let end_time_string = end_time;\n",
    "let start = todatetime(start_time_string);\n",
    "let end = todatetime(end_time_string);\n",
    "SecurityLog\n",
    "| where ingestion_time() between(start..end)\n",
    "| where EventId == 4624\n",
    "| where Computer has_any (machine_list)\n",
    "| extend TargetUserName = tostring(EventData.TargetUserName),\n",
    "    TargetUserSid = EventData.TargetUserSid,\n",
    "    IpAddress = tostring(EventData.IpAddress),\n",
    "    LogonType = tostring(EventData.LogonType)\n",
    "| where TargetUserSid !~ 'S-1-5-18'\n",
    "| summarize Count=count() by TargetUserName, Computer, IpAddress, LogonType\n",
    "| sort by Count desc"
   ]
  },
  {
   "cell_type": "markdown",
   "id": "ab6cd773",
   "metadata": {},
   "source": [
    "#### Computer Login Results to DF Variable"
   ]
  },
  {
   "cell_type": "code",
   "execution_count": null,
   "id": "db59f413",
   "metadata": {},
   "outputs": [],
   "source": [
    "computer_login_results = _kql_raw_result_.to_dataframe()"
   ]
  },
  {
   "cell_type": "markdown",
   "id": "21187211",
   "metadata": {},
   "source": [
    "#### Computer Processes"
   ]
  },
  {
   "cell_type": "code",
   "execution_count": null,
   "id": "803b7ff7",
   "metadata": {},
   "outputs": [],
   "source": [
    "# keep this timeframe short - the idea is to get a snapshot of the processes for the processtree\n",
    "%%kql WEC@yourcluster\n",
    "let machine_list = compromised_machines;\n",
    "let start_time_string = start_time;\n",
    "let end_time_string = end_time;\n",
    "let start = todatetime(start_time_string);\n",
    "let end = todatetime(end_time_string);\n",
    "SecurityLog\n",
    "| where ingestion_time() between(start..end)\n",
    "| where EventId == 4688\n",
    "| where Computer contains \"computername\"\n",
    "| extend SubjectUserName = tostring(parse_json(EventData).SubjectUserName),\n",
    "        TargetUserName = tostring(parse_json(EventData).TargetUserName),\n",
    "        CommandLine = tostring(parse_json(EventData).CommandLine),\n",
    "        ParentProcessName = tostring(parse_json(EventData).ParentProcessName),\n",
    "        NewProcessName = tostring(parse_json(EventData).NewProcessName)\n",
    "| project TimeCreated, Computer, SubjectUserName, TargetUserName, ParentProcessName, NewProcessName, CommandLine\n",
    "| sort by TimeCreated desc\n",
    "| limit 1000"
   ]
  },
  {
   "cell_type": "markdown",
   "id": "19b1a70f",
   "metadata": {},
   "source": [
    "#### Computer Processes Results to DF Variable"
   ]
  },
  {
   "cell_type": "code",
   "execution_count": null,
   "id": "a31a85cb",
   "metadata": {},
   "outputs": [],
   "source": [
    "computer_processes = _kql_raw_result_.to_dataframe()"
   ]
  },
  {
   "cell_type": "markdown",
   "id": "af0ec139",
   "metadata": {},
   "source": [
    "## Visualizations"
   ]
  },
  {
   "cell_type": "code",
   "execution_count": null,
   "id": "f59a48a2",
   "metadata": {},
   "outputs": [],
   "source": [
    "#visualizations\n",
    "#user processes\n",
    "%%kql WEC@yourcluster\n",
    "let username = \"User1\";\n",
    "let start_time_string = start_time;\n",
    "let end_time_string = end_time;\n",
    "let start = todatetime(start_time_string);\n",
    "let end = todatetime(end_time_string);\n",
    "SecurityLog\n",
    "| where ingestion_time() between(start..end)\n",
    "| where EventId == 4688\n",
    "| where EventData.SubjectUserName contains username or EventData.TargetUserName contains username\n",
    "| summarize processes = count() by tostring(EventData.NewProcessName), bin(TimeCreated, 12h)\n",
    "| render columnchart title= 'User Processes'"
   ]
  },
  {
   "cell_type": "code",
   "execution_count": null,
   "id": "34890eb2",
   "metadata": {},
   "outputs": [],
   "source": [
    "#user logins\n",
    "%%kql WEC@yourcluster\n",
    "let username = \"User1\";\n",
    "let start_time_string = start_time;\n",
    "let end_time_string = end_time;\n",
    "let start = todatetime(start_time_string);\n",
    "let end = todatetime(end_time_string);    \n",
    "SecurityLog\n",
    "| where ingestion_time() between(start..end)\n",
    "| where EventId == 4624\n",
    "| where EventData.SubjectUserName contains username or EventData.TargetUserName contains username\n",
    "| summarize logins = count() by tostring(Computer), bin(TimeCreated, 12h)\n",
    "| render timechart title= 'User Logins'\n",
    "        "
   ]
  },
  {
   "cell_type": "code",
   "execution_count": null,
   "id": "df3cc47f",
   "metadata": {},
   "outputs": [],
   "source": [
    "#machine logins \n",
    "%%kql WEC@yourcluster\n",
    "let machine_list = compromised_machines;\n",
    "let start_time_string = start_time;\n",
    "let end_time_string = end_time;\n",
    "let start = todatetime(start_time_string);\n",
    "let end = todatetime(end_time_string);\n",
    "SecurityLog\n",
    "| where ingestion_time() between(start..end)\n",
    "| where EventId == 4624\n",
    "| where Computer has_any (machine_list)\n",
    "| extend TargetUserName = tostring(EventData.TargetUserName),\n",
    "    TargetUserSid = EventData.TargetUserSid,\n",
    "    IpAddress = tostring(EventData.IpAddress),\n",
    "    LogonType = tostring(EventData.LogonType)\n",
    "| where TargetUserSid !~ 'S-1-5-18'\n",
    "| summarize Count=count() by TargetUserName, Computer, IpAddress, LogonType\n",
    "| render barchart"
   ]
  },
  {
   "cell_type": "markdown",
   "id": "2891c461",
   "metadata": {},
   "source": [
    "## Msticpy Functions "
   ]
  },
  {
   "cell_type": "code",
   "execution_count": null,
   "id": "9ed5fa4e",
   "metadata": {},
   "outputs": [],
   "source": [
    "# create a process tree on a remote host\n",
    "# will try to auto pull from data - if not in proper format it will use tree builder which you can also do manually\n",
    "# will be using 4688 events - probably best to do this only over an hour increment unless you are narrowing by username\n",
    "# the build tree extract parent/child relationships\n",
    "# 3 examples for the same function\n",
    "\n",
    "# computer_processes.mp_process_tree.plot()\n",
    "ptree.plot_process_tree(computer_processes)\n",
    "\n",
    "#if that doesnt work try this build function\n",
    "# ptree.built_process_tree(computer_processes)\n",
    "\n",
    "# can also do this for a user instead of a computer but it wont work if they escalate to system"
   ]
  },
  {
   "cell_type": "code",
   "execution_count": null,
   "id": "8fa8bd58",
   "metadata": {},
   "outputs": [],
   "source": [
    "#create a simple process timeline - first it seems like data has to be put into a csv, then read from the CSV\n",
    "#at least one column needs to be something like timecreated\n",
    "\n",
    "# loading data source\n",
    "host_processes(\n",
    "   data=InitialWECLogs\n",
    "   parse_dates=[\"TimeCreated\"],\n",
    "   infer_datetime_format=True,\n",
    "   index_col=0\n",
    ");\n",
    "display_timeline(host_processes)"
   ]
  },
  {
   "cell_type": "code",
   "execution_count": null,
   "id": "2ba4eca5",
   "metadata": {},
   "outputs": [],
   "source": [
    "# grouping by TargetUserName\n",
    "display_timeline(\n",
    "    host_processes,\n",
    "    group_by=\"TargetUserName\"\n",
    "    source_columns=[\"ParentProcessName\", \"NewProcessName\"],\n",
    "    legend=\"inline\");"
   ]
  },
  {
   "cell_type": "markdown",
   "id": "2e842bad",
   "metadata": {},
   "source": [
    "## Data Analytics"
   ]
  },
  {
   "cell_type": "code",
   "execution_count": null,
   "id": "186fb3ac",
   "metadata": {},
   "outputs": [],
   "source": [
    "#all unique commandline arguments\n",
    "unique_cmd = pd.unique(InitialWECLogs.CommandLine)\n",
    "print(unique_cmd)"
   ]
  },
  {
   "cell_type": "code",
   "execution_count": null,
   "id": "09d88d96",
   "metadata": {},
   "outputs": [],
   "source": [
    "#find any powershell encoded commands\n",
    "encoded_filter = InitialWECLogs['CommandLine'].str.find(\"encodedcommand\")\n",
    "encoded_filter"
   ]
  },
  {
   "cell_type": "code",
   "execution_count": null,
   "id": "2dd17222",
   "metadata": {},
   "outputs": [],
   "source": [
    "#number of processes spawned by each parent\n",
    "#this is something we could baseline as well - notate the values over the course of a normal week for example and\n",
    "proc_relationship = InitialWECLogs.groupby(['ParentProcessName']).size()\n",
    "proc_relationship"
   ]
  }
 ],
 "metadata": {
  "kernelspec": {
   "display_name": "Python 3",
   "language": "python",
   "name": "python3"
  },
  "language_info": {
   "codemirror_mode": {
    "name": "ipython",
    "version": 3
   },
   "file_extension": ".py",
   "mimetype": "text/x-python",
   "name": "python",
   "nbconvert_exporter": "python",
   "pygments_lexer": "ipython3",
   "version": "3.8.8"
  }
 },
 "nbformat": 4,
 "nbformat_minor": 5
}
