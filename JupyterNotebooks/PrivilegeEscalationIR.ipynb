{
 "cells": [
  {
   "cell_type": "markdown",
   "id": "e2578a1b",
   "metadata": {},
   "source": [
    "# ***Priv Esc Runbook***"
   ]
  },
  {
   "cell_type": "markdown",
   "id": "c50d2de0",
   "metadata": {},
   "source": [
    "## Setup"
   ]
  },
  {
   "cell_type": "code",
   "execution_count": null,
   "id": "ddd426ac",
   "metadata": {},
   "outputs": [],
   "source": [
    "# install packages\n",
    "print(\"Installing Necesssary Packages, please wait.\")\n",
    "!{sys.executable} -m pip install kqlmagic --no-cache-dir --upgrade\n",
    "!{sys.executable} -m pip install msticpy\n",
    "!{sys.executable} -m pip install numpy\n",
    "!{sys.executable} -m pip install pandas\n",
    "!{sys.executable} -m pip install matplotlib\n",
    "!{sys.executable} -m pip install datetime\n",
    "!{sys.executable} -m pip install multihash\n",
    "!{sys.executable} -m pip install os\n",
    "!{sys.executable} -m pip install seaborn\n",
    "print(\"Package installation complete.\")"
   ]
  },
  {
   "cell_type": "code",
   "execution_count": null,
   "id": "fbfbf981",
   "metadata": {},
   "outputs": [],
   "source": [
    "#import packages\n",
    "print(\"Inporting Necesssary Packages, please wait.\")\n",
    "import sys\n",
    "import Kqlmagic\n",
    "import msticpy\n",
    "import pandas as pd\n",
    "import numpy as np\n",
    "import matplotlib.pyplot as plt\n",
    "from datetime import datetime\n",
    "import os\n",
    "import seaborn as sns\n",
    "print(\"Package import complete.\")\n",
    "%reload_ext Kqlmagic"
   ]
  },
  {
   "cell_type": "code",
   "execution_count": null,
   "id": "63c4de31",
   "metadata": {},
   "outputs": [],
   "source": [
    "#Adding IOCs as Global Variables to be used across functions\n",
    "badguys = (\"badguyusername\", \"badguy2\")\n",
    "compromised_accounts = (\"admin1, engineer2\")\n",
    "start_time = \"2022-02-23 00:00:00\"\n",
    "end_time = \"2022-02-28 00:00:00\"\n",
    "privesc_tools = (\"winPEAs\", \"adPEAs\", \"mimikatz\", \"powerup\", \"sherlock\", \"seatbelt\". \"jaws-enum\", \"wes.py\", \"privesccheck\")\n",
    "tool_used = ()\n",
    "attribution = ()"
   ]
  },
  {
   "cell_type": "code",
   "execution_count": null,
   "id": "0ef2a669",
   "metadata": {},
   "outputs": [],
   "source": [
    "#add all necessary kusto connections\n",
    "%kql kusto://code().cluster('WEC').database('logs')\n",
    "%kql kusto://code().cluster('AV').database('logs')"
   ]
  },
  {
   "cell_type": "markdown",
   "id": "cfb51f96",
   "metadata": {},
   "source": [
    "## Queries"
   ]
  },
  {
   "cell_type": "code",
   "execution_count": null,
   "id": "df282521",
   "metadata": {},
   "outputs": [],
   "source": [
    "initial_wec == '''\n",
    "%%kql logs@WEC\n",
    "    let badguys = usernames_list;\n",
    "    let privesc_tools = privesc_tools;\n",
    "    let start_time = start_time\n",
    "    let end_time = end_time\n",
    "    cluster(WEC).database(logs).SecurityLog\n",
    "    | where ingestion_time() between(start_time..end_time)\n",
    "    | where EventID == 4688\n",
    "    | where EventData has_any usernames_list\n",
    "    | where EventData.CommandLine has_any privesc_tools\n",
    "    | extend SubjectUserName = tostring(parse_json(EventData).SubjectUserName),\n",
    "            TargetUserName = tostring(parse_json(EventData).TargetUserName),\n",
    "            CommandLine = tostring(parse_json(EventData).CommandLine),\n",
    "            ParentProcessName = tostring(parse_json(EventData).ParentProcessName),\n",
    "            NewProcessName = tostring(parse_json(EventData).NewProcessName)\n",
    "    | project TimeGenerated, Computer, SubjectUserName, TargetUserName, ParentProcessName, NewProcessName, CommandLine\n",
    "    | limit 1000\n",
    "'''\n",
    "InitialWECLogs = _kql_raw_result_.to_dataframe().sort_values('TimeGenerated', ascending = False)\n",
    "InitialWECLogs.head(50)"
   ]
  },
  {
   "cell_type": "code",
   "execution_count": null,
   "id": "ac94a774",
   "metadata": {},
   "outputs": [],
   "source": [
    "# the %1937 tokenelevation type indicates a user running with admin or equivalent permissions, \n",
    "# similar to executing with runas\n",
    "token_elevation = '''\n",
    "%%kql logs@WEC\n",
    "    let start_time = start_time\n",
    "    let end_time = end_time\n",
    "    cluster(WEC).database(logs).SecurityLog\n",
    "    | where ingestion_time() between(start_time..end_time)\n",
    "    | where EventID == 4688\n",
    "    | where Computer contains \"JMP\"\n",
    "    | where EventData.TokenElevation.Type contains \"1937\"\n",
    "    | sort by TimeGenerated desc\n",
    "    | limit 1000\n",
    "'''\n",
    "Token_Elevation = _kql_raw_result_.to_dataframe().sort_values('TimeGenerated', ascending = False)\n",
    "Token_Elevation.head(50)"
   ]
  },
  {
   "cell_type": "code",
   "execution_count": null,
   "id": "b8dcb063",
   "metadata": {},
   "outputs": [],
   "source": [
    "# suspicious rundll32, this is a technique of dll hijacking\n",
    "rundll_hijacking = '''\n",
    "%%kql logs@WEC\n",
    "    let start_time = start_time\n",
    "    let end_time = end_time\n",
    "    cluster(WEC).database(logs).SecurityLog\n",
    "    | where ingestion_time() between(start_time..end_time)\n",
    "    | where EventID == 4688\n",
    "    | where EventData.CommandLine contains \"rundll32\"\n",
    "    | where EventData.NewProcessName !contains \"system32\"\n",
    "    | sort by TimeGenerated desc\n",
    "    | limit 1000\n",
    "'''\n",
    "rundll_results = _kql_raw_result_.to_dataframe().sort_values('TimeGenerated', ascending = False)\n",
    "rundll_results.head(50)"
   ]
  },
  {
   "cell_type": "code",
   "execution_count": null,
   "id": "b5f786ee",
   "metadata": {},
   "outputs": [],
   "source": [
    "# querying for possible pass the hash techniques - still working on this\n",
    "pass_the_hash = '''\n",
    "%%kql logs@WEC\n",
    "    let start_time = start_time\n",
    "    let end_time = end_time\n",
    "    cluster(WEC).database(logs).SecurityLog\n",
    "    | where TimeCreated between(start_time..end_time)\n",
    "    | where EventID == 4624 and EventData.LogonType == 9\n",
    "    | where isnotempty(EventData.TargetOutBoundUserName) and EventData.TargetOutBoundUserName != \"-\"\n",
    "    | project TimeCreated, Computer, EventData.TargetOutBoundUserName, EventData.LogonType, EventData.IpAddress EventData.LogonGuid \n",
    "    | join (SecurityLog\n",
    "           | where TimeCreated between(start_time..end_time)\n",
    "           | where EventID == 4648\n",
    "           | where EventData.TargetServerName != \"-\" and EventData.TargetServerName != \"localhost\"\n",
    "           | project TimeCreated, EventData.TargetServerName, Computer, EventData.TargetUserName, EventData.TargetInfo,\n",
    "            EventData.LogonGiud\n",
    "           ) on EventData.LogonGuid\n",
    "    | sort by TimeCreated desc\n",
    "'''\n",
    "pth_results = _kql_raw_result_.to_dataframe().sort_values('TimeGenerated', ascending = False)\n",
    "pth_results.head(50)"
   ]
  },
  {
   "cell_type": "code",
   "execution_count": null,
   "id": "31cd417f",
   "metadata": {},
   "outputs": [],
   "source": [
    "# user logins\n",
    "user_logins = '''\n",
    "%%kql logs@WEC\n",
    "let start_time = $start_time;\n",
    "let end_time = $end_time;\n",
    "let users = $compromised_accounts;\n",
    "cluster(WEC).database(logs).SecurityLog\n",
    "| where TimeCreated between(start_time..end_time)\n",
    "| where EventId == 4624\n",
    "| where EventData.TargetUserName in~(users)\n",
    "| extend TargetUserName = tostring(EventData.TargetUserName),\n",
    "    TargetUserSid = EventData.TargetUserSid,\n",
    "    IpAddress = tostring(EventData.IpAddress),\n",
    "    LogonType = tostring(EventData.LogonType)\n",
    "| where TargetUserSid !~ 'S-1-5-18'\n",
    "| summarize Count=count() by Computer,TargetUserName, IpAddress, LogonType\"\n",
    "'''\n",
    "\n",
    "user_login_results = _kql_raw_result_.to_dataframe().sort_values('TimeGenerated', ascending = False)"
   ]
  },
  {
   "cell_type": "code",
   "execution_count": null,
   "id": "9e765a95",
   "metadata": {},
   "outputs": [],
   "source": [
    "#logins by machine\n",
    "computer_logins = '''\n",
    "%%kql logs@WEC\n",
    "let start_time = $start_time;\n",
    "let end_time = $end_time;\n",
    "let computers = $compromised_accounts;\n",
    "cluster(WEC).database(logs).SecurityLog\n",
    "| where TimeCreated between(start_time..end_time)\n",
    "| where EventId == 4624\n",
    "| where Computer in~(computers)\n",
    "| extend TargetUserName = tostring(EventData.TargetUserName),\n",
    "    TargetUserSid = EventData.TargetUserSid,\n",
    "    IpAddress = tostring(EventData.IpAddress),\n",
    "    LogonType = tostringEventData.LogonType)\n",
    "| where TargetUserSid !~ 'S-1-5-18'\n",
    "| summarize Count=count() by TargetUserName, Computer, IpAddress, LogonType\"\n",
    "'''\n",
    "\n",
    "computer_login_results = _kql_raw_result_.to_dataframe().sort_values('TimeGenerated', ascending = False)"
   ]
  },
  {
   "cell_type": "markdown",
   "id": "525dfc2a",
   "metadata": {},
   "source": [
    "## Visualizations"
   ]
  },
  {
   "cell_type": "code",
   "execution_count": null,
   "id": "0b2b8942",
   "metadata": {},
   "outputs": [],
   "source": [
    "sns.barplot(x = 'TargetUserName',\n",
    "            y = 'Count',\n",
    "            hue = 'Computer',\n",
    "            data = user_login_results)\n",
    "\n",
    "plt.show()"
   ]
  },
  {
   "cell_type": "code",
   "execution_count": null,
   "id": "34890eb2",
   "metadata": {},
   "outputs": [],
   "source": [
    "sns.barplot(x = \"Computer\",\n",
    "            y = \"Count\",\n",
    "            hue = \"TargetUserName\",\n",
    "            data = computer_login_results)\n",
    "\n",
    "plt.show()        "
   ]
  },
  {
   "cell_type": "markdown",
   "id": "e42ae3a9",
   "metadata": {},
   "source": [
    "## Analytics"
   ]
  },
  {
   "cell_type": "code",
   "execution_count": null,
   "id": "b2019033",
   "metadata": {},
   "outputs": [],
   "source": [
    "#all unique commandline arguments\n",
    "for cmd in InitialWECLogs['CommandLine'].unique():\n",
    "    print(cmd)\n",
    "    \n",
    "#find any powershell encoded commands\n",
    "encoded_filter = InitialWECLogs['CommandLine'].str.find(\"encodedcommand\")\n",
    "encoded_filter\n",
    "\n",
    "#number of processes spawned by each parent\n",
    "#this is something we could baseline as well - notate the values over the course of a normal week for example and\n",
    "proc_relationship = InitialWECLogs.groupby(['ParentProcessName']).size()\n",
    "proc_relationship"
   ]
  }
 ],
 "metadata": {
  "kernelspec": {
   "display_name": "Python 3",
   "language": "python",
   "name": "python3"
  },
  "language_info": {
   "codemirror_mode": {
    "name": "ipython",
    "version": 3
   },
   "file_extension": ".py",
   "mimetype": "text/x-python",
   "name": "python",
   "nbconvert_exporter": "python",
   "pygments_lexer": "ipython3",
   "version": "3.8.8"
  }
 },
 "nbformat": 4,
 "nbformat_minor": 5
}
