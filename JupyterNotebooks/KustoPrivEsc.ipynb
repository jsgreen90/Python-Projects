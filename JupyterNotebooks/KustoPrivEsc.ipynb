{
 "cells": [
  {
   "cell_type": "markdown",
   "id": "cfc31f06",
   "metadata": {},
   "source": [
    "# Setup\n",
    "1. Install and import packages\n",
    "2. Declare variables and set connection strings"
   ]
  },
  {
   "cell_type": "code",
   "execution_count": null,
   "id": "528693be",
   "metadata": {},
   "outputs": [],
   "source": [
    "# install packages\n",
    "print(\"Installing Necesssary Packages, please wait.\")\n",
    "import sys\n",
    "!{sys.executable} -m pip install pandas\n",
    "!{sys.executable} -m pip install datetime\n",
    "!{sys.executable} -m pip install seaborn\n",
    "!{sys.executable} -m pip install azure-kusto-data\n",
    "print(\"Package installation complete.\")"
   ]
  },
  {
   "cell_type": "code",
   "execution_count": null,
   "id": "76df6512",
   "metadata": {},
   "outputs": [],
   "source": [
    "print(\"Importing Packages\")\n",
    "import pandas as pd\n",
    "import seaborn as sns\n",
    "import os\n",
    "import datetime\n",
    "import azure.kusto.data\n",
    "from datetime import timedelta\n",
    "from azure.kusto.data import KustoClient, KustoConnectionStringBuilder, ClientRequestProperties\n",
    "from azure.kusto.data.exceptions import KustoServiceError\n",
    "from azure.kusto.data.helpers import dataframe_from_result_table\n",
    "print(\"Package Import complete\")"
   ]
  },
  {
   "cell_type": "code",
   "execution_count": null,
   "id": "55a32f1c",
   "metadata": {},
   "outputs": [],
   "source": [
    "#Adding IOCs as Global Variables to be used across functions\n",
    "badguys = ()\n",
    "compromised_accounts = \"('User1','User2')\"\n",
    "compromised_machines = \"('Computer1', 'Computer2')\"\n",
    "start_time = \"ago(2d)\"\n",
    "end_time = \"ago(1d)\"\n",
    "privesc_tools = (\"winPEAs\", \"adPEAs\", \"mimikatz\", \"powerup\", \"sherlock\", \"seatbelt\", \"jaws-enum\", \"wes.py\", \"privesccheck\")\n",
    "tool_used = ()\n",
    "attribution = ()"
   ]
  },
  {
   "cell_type": "code",
   "execution_count": null,
   "id": "f0ffd840",
   "metadata": {},
   "outputs": [],
   "source": [
    "cluster = \"https://yourwindowseventlogcluster.net\" \n",
    "cdoc_Conn = KustoConnectionStringBuilder.with_az_cli_authentication(cluster) \n",
    "\n",
    "client = KustoClient(events_Conn)\n",
    "database = \"WEC\""
   ]
  },
  {
   "cell_type": "markdown",
   "id": "a2a2f698",
   "metadata": {},
   "source": [
    "# Queries"
   ]
  },
  {
   "cell_type": "code",
   "execution_count": null,
   "id": "bc21fd75",
   "metadata": {},
   "outputs": [],
   "source": [
    "# starting point\n",
    "initial_wec = '''\n",
    "SecurityLog\n",
    "| where ingestion_time() between('''+start_time + \"..\" + end_time+''')\n",
    "| where EventId == 4688\n",
    "| where EventData.TargetUserName has_any '''+compromised_accounts+'''\n",
    "| extend SubjectUserName = tostring(parse_json(EventData).SubjectUserName),\n",
    "TargetUserName = tostring(parse_json(EventData).TargetUserName),\n",
    "CommandLine = tostring(parse_json(EventData).CommandLine),\n",
    "ParentProcessName = tostring(parse_json(EventData).ParentProcessName),\n",
    "NewProcessName = tostring(parse_json(EventData).NewProcessName)\n",
    "| project TimeCreated, Computer, SubjectUserName, TargetUserName, ParentProcessName, NewProcessName, CommandLine\n",
    "| limit 1000'''\n",
    "\n",
    "\n",
    "InitialWEC_Results = client.execute(database, initial_wec)\n",
    "InitialWEC_df = dataframe_from_result_table(InitialWEC_Results.primary_results[0])\n",
    "#showing top 10 results to make sure you have the columns you need\n",
    "#you can print out the whole thing but the idea was to then run the analytics on the results to pull exactly what you want\n",
    "# by using pandas and making these into DFs, the analysis should be smoother/faster\n",
    "InitialWEC_df.head(10)\n"
   ]
  },
  {
   "cell_type": "code",
   "execution_count": null,
   "id": "fd16609f",
   "metadata": {},
   "outputs": [],
   "source": [
    "# the %1937 tokenelevation type indicates a user running with admin or equivalent permissions, \n",
    "# similar to executing with runas\n",
    "token_elevation = '''\n",
    "SecurityLog\n",
    "| where ingestion_time() between('''+start_time + \"..\" + end_time+''')\n",
    "| where EventId == 4688\n",
    "| where Computer contains \"JMP\"\n",
    "| where EventData.TokenElevation.Type contains \"1937\"\n",
    "| sort by TimeCreated desc\n",
    "| limit 1000\n",
    "'''\n",
    "\n",
    "token_elevation_results = client.execute(database, token_elevation)\n",
    "token_elevation_df = dataframe_from_result_table(token_elevation_results.primary_results[0])\n",
    "token_elevation_df.head(10)"
   ]
  },
  {
   "cell_type": "code",
   "execution_count": null,
   "id": "61f73de8",
   "metadata": {},
   "outputs": [],
   "source": [
    "# suspicious rundll32, this is a technique of dll hijacking\n",
    "rundll_hijacking = '''\n",
    "SecurityLog\n",
    "| where ingestion_time() between('''+start_time + \"..\" + end_time+''')\n",
    "| where EventId == 4688\n",
    "| where EventData.CommandLine contains \"rundll32\"\n",
    "| where EventData.NewProcessName !contains \"system32\"\n",
    "| sort by TimeCreated desc\n",
    "| limit 1000\n",
    "'''\n",
    "\n",
    "rundll_results = client.execute(database, rundll_hijacking)\n",
    "rundll_df = dataframe_from_result_table(rundll_results.primary_results[0])\n",
    "rundll_df.head(10)"
   ]
  },
  {
   "cell_type": "code",
   "execution_count": null,
   "id": "a3cba339",
   "metadata": {},
   "outputs": [],
   "source": [
    "# querying for possible pass the hash techniques - still working on this\n",
    "pass_the_hash = '''\n",
    "SecurityLog\n",
    "| where ingestion_time() between('''+start_time + \"..\" + end_time+''')\n",
    "| where EventId == 4624 and EventData.LogonType == 9\n",
    "| where isnotempty(EventData.TargetOutBoundUserName) and EventData.TargetOutBoundUserName != \"-\"\n",
    "| project TimeCreated, Computer, EventData.TargetOutBoundUserName, EventData.LogonType, EventData.IpAddress EventData.LogonGuid \n",
    "| join (SecurityLog\n",
    "        | where TimeCreated between(start_time..end_time)\n",
    "        | where EventId == 4648\n",
    "        | where EventData.TargetServerName != \"-\" and EventData.TargetServerName != \"localhost\"\n",
    "        | project TimeCreated, EventData.TargetServerName, Computer, EventData.TargetUserName, EventData.TargetInfo,\n",
    "        EventData.LogonGiud\n",
    "        ) on EventData.LogonGuid\n",
    "| sort by TimeCreated desc\n",
    "'''\n",
    "\n",
    "pth_results = client.execute(database, pass_the_hash)\n",
    "pth_df = dataframe_from_result_table(pth_results.primary_results[0])\n",
    "pth_df.head(10)"
   ]
  },
  {
   "cell_type": "code",
   "execution_count": null,
   "id": "21efc5dc",
   "metadata": {},
   "outputs": [],
   "source": [
    "# user logins\n",
    "user_login = '''\n",
    "SecurityLog\n",
    "| where ingestion_time() between('''+start_time + \"..\" + end_time+''')\n",
    "| where EventId == 4624\n",
    "| where EventData.TargetUserName has_any '''+compromised_accounts+'''\n",
    "| extend TargetUserName = tostring(EventData.TargetUserName),\n",
    "    TargetUserSid = EventData.TargetUserSid,\n",
    "    IpAddress = tostring(EventData.IpAddress),\n",
    "    LogonType = tostring(EventData.LogonType)\n",
    "| where TargetUserSid !~ 'S-1-5-18'\n",
    "| summarize Count=count() by Computer,TargetUserName, IpAddress, LogonType\n",
    "| sort by Count desc\n",
    "'''\n",
    "\n",
    "user_login_results = client.execute(database, user_login)\n",
    "user_login_df = dataframe_from_result_table(user_login_results.primary_results[0])\n",
    "user_login_df.head(10)"
   ]
  },
  {
   "cell_type": "markdown",
   "id": "438b5edb",
   "metadata": {},
   "source": [
    "### Visualization of User Logins"
   ]
  },
  {
   "cell_type": "code",
   "execution_count": null,
   "id": "49c2c61c",
   "metadata": {},
   "outputs": [],
   "source": [
    "sns.barplot(x = 'TargetUserName',\n",
    "            y = 'Count',\n",
    "            hue = 'Computer',\n",
    "            data = user_login_df)\n",
    "plt.gcf().set_size_inches(10,10)\n",
    "plt.legend(bbox_to_anchor=(1.05, 0.5), loc='upper left', borderaxespad=0)\n",
    "plt.show()"
   ]
  },
  {
   "cell_type": "code",
   "execution_count": null,
   "id": "50354644",
   "metadata": {},
   "outputs": [],
   "source": [
    "#logins by machine\n",
    "computer_login = '''\n",
    "SecurityLog\n",
    "| where ingestion_time() between('''+start_time + \"..\" + end_time+''')\n",
    "| where EventId == 4624\n",
    "| where Computer has_any '''+compromised_machines+'''\n",
    "| extend TargetUserName = tostring(EventData.TargetUserName),\n",
    "    TargetUserSid = EventData.TargetUserSid,\n",
    "    IpAddress = tostring(EventData.IpAddress),\n",
    "    LogonType = tostring(EventData.LogonType)\n",
    "| where TargetUserSid !~ 'S-1-5-18'\n",
    "| summarize Count=count() by TargetUserName, Computer, IpAddress, LogonType\n",
    "| sort by Count desc\n",
    "'''\n",
    "\n",
    "computer_login_results = client.execute(database, computer_login)\n",
    "computer_login_df = dataframe_from_result_table(computer_login_results.primary_results[0])\n",
    "computer_login_df.head(10)"
   ]
  },
  {
   "cell_type": "markdown",
   "id": "4fad14cd",
   "metadata": {},
   "source": [
    "### Visualization of Computer Logins"
   ]
  },
  {
   "cell_type": "code",
   "execution_count": null,
   "id": "4b23a060",
   "metadata": {},
   "outputs": [],
   "source": [
    "sns.barplot(x = \"Computer\",\n",
    "            y = \"Count\",\n",
    "            hue = \"TargetUserName\",\n",
    "            data = computer_login_df)\n",
    "plt.gcf().set_size_inches(10,10)\n",
    "plt.legend(bbox_to_anchor=(1.05, 0.5), loc='upper left', borderaxespad=0)\n",
    "plt.show()  "
   ]
  },
  {
   "cell_type": "markdown",
   "id": "271a289a",
   "metadata": {},
   "source": [
    "# Data Analytics"
   ]
  },
  {
   "cell_type": "code",
   "execution_count": null,
   "id": "af6ec40f",
   "metadata": {},
   "outputs": [],
   "source": [
    "#all unique commandline arguments\n",
    "for cmd in InitialWEC_df['CommandLine'].unique():\n",
    "    print(cmd +\"\\n\")\n",
    "    "
   ]
  },
  {
   "cell_type": "code",
   "execution_count": null,
   "id": "3825b2c4",
   "metadata": {},
   "outputs": [],
   "source": [
    "#find any powershell encoded commands\n",
    "encoded_filter = InitialWEC_df['CommandLine'].str.find(\"encodedcommand\")\n",
    "encoded_filter"
   ]
  },
  {
   "cell_type": "code",
   "execution_count": null,
   "id": "0557df40",
   "metadata": {},
   "outputs": [],
   "source": [
    "#number of processes spawned by each parent\n",
    "#this is something we could baseline as well - notate the values over the course of a normal week for example and\n",
    "proc_relationship = InitialWEC_df.groupby(['ParentProcessName']).size()\n",
    "proc_relationship"
   ]
  }
 ],
 "metadata": {
  "kernelspec": {
   "display_name": "Python 3",
   "language": "python",
   "name": "python3"
  },
  "language_info": {
   "codemirror_mode": {
    "name": "ipython",
    "version": 3
   },
   "file_extension": ".py",
   "mimetype": "text/x-python",
   "name": "python",
   "nbconvert_exporter": "python",
   "pygments_lexer": "ipython3",
   "version": "3.8.8"
  }
 },
 "nbformat": 4,
 "nbformat_minor": 5
}
